{
  "nbformat": 4,
  "nbformat_minor": 0,
  "metadata": {
    "colab": {
      "provenance": [],
      "toc_visible": true
    },
    "kernelspec": {
      "name": "python3",
      "display_name": "Python 3"
    },
    "language_info": {
      "name": "python"
    }
  },
  "cells": [
    {
      "cell_type": "markdown",
      "source": [
        "#Data Types and Structures Questions\n",
        "\n",
        "1.What are data structures, and why are they important ?\n",
        "\n",
        "answer-\n",
        "  - What Are Data Structures?\n",
        "\n",
        "Data structures are ways of organizing and storing data so that it can be accessed and modified efficiently. They define how data is arranged, how operations (like searching, sorting, and modifying) can be performed on it, and how efficiently these operations run.\n",
        "\n",
        "  - Why Are Data Structures Important?\n",
        "\n",
        "1.Efficiency – Well-chosen data structures allow algorithms to run faster and use less memory.\n",
        "\n",
        "2.Organized Data Management – Helps in organizing large amounts of data in a structured way.\n",
        "\n",
        "3.Code Optimization – Helps in writing cleaner and more efficient code.\n",
        "\n",
        "4.Real-World Applications – Used in databases, operating systems, artificial intelligence, and more.\n",
        "\n",
        "\n",
        "\n",
        "\n",
        "\n",
        "\n",
        "\n",
        "\n"
      ],
      "metadata": {
        "id": "u46EA0IqcgoM"
      }
    },
    {
      "cell_type": "markdown",
      "source": [],
      "metadata": {
        "id": "LRGtdVCuib-T"
      }
    },
    {
      "cell_type": "markdown",
      "source": [
        "2.Explain the difference between mutable and immutable data types with examples.\n",
        "  - Difference Between Mutable and Immutable Data Types\n",
        "In programming, particularly in Python, mutable and immutable data types refer to whether a data object can be modified after it is created.\n",
        "\n",
        "1. Mutable Data Types\n",
        "Definition: Mutable data types can be changed after creation, meaning their contents (values) can be altered without changing their identity (memory location).\n",
        "\n",
        "Examples:\n",
        "\n",
        "Lists (list)\n",
        "\n",
        "Dictionaries (dict)\n",
        "\n",
        "Sets (set)\n",
        "\n",
        "2. Immutable Data Types\n",
        "Definition: Immutable data types cannot be changed after creation. Any modification results in a new object being created in memory.\n",
        "\n",
        "Examples:\n",
        "\n",
        "Tuples (tuple)\n",
        "\n",
        "Strings (str)\n",
        "\n",
        "Integers (int)\n",
        "\n",
        "Floats (float)\n",
        "\n"
      ],
      "metadata": {
        "id": "_Sj_Tzdziw6h"
      }
    },
    {
      "cell_type": "code",
      "source": [
        "my_string = \"Hello\"\n",
        "print(id(my_string))  # Memory address before modification\n",
        "\n",
        "my_string += \" World\"  # Modifying the string\n",
        "print(my_string)       # Output: \"Hello World\"\n",
        "print(id(my_string))   # New memory address (new object created)\n"
      ],
      "metadata": {
        "colab": {
          "base_uri": "https://localhost:8080/"
        },
        "id": "hhT_LlZOjJ03",
        "outputId": "2f3e5c06-324d-4314-8f62-a3df756bd0ca"
      },
      "execution_count": null,
      "outputs": [
        {
          "output_type": "stream",
          "name": "stdout",
          "text": [
            "135813511875056\n",
            "Hello World\n",
            "135813520884592\n"
          ]
        }
      ]
    },
    {
      "cell_type": "markdown",
      "source": [],
      "metadata": {
        "id": "bEiZVwa2jWaK"
      }
    },
    {
      "cell_type": "markdown",
      "source": [
        "3.What are the main differences between lists and tuples in Python?\n",
        "\n",
        "---\n",
        "\n",
        "\n",
        "   - Differences Between Lists and Tuples in Python\n",
        "Both lists and tuples are used to store collections of items in Python, but they have key differences in mutability, performance, and usage.\n",
        "\n",
        " Tuples are immutable objects and lists are mutable objects. Once defined, tuples have a fixed length and lists have a dynamic length. Tuples use less memory and are faster to access than to lists. Tuple syntax uses round brackets or parenthesis, and list syntax uses square brackets.\n",
        "\n",
        "The primary difference between lists and tuples in Python lies in their mutability: lists are mutable (can be changed), while tuples are immutable (cannot be changed after creation).\n",
        "\n",
        "Here's a more detailed breakdown:\n",
        "\n",
        "Mutability:\n",
        "\n",
        "Lists: You can add, remove, or modify elements in a list after it's created using methods like append(), remove(), insert(), etc.\n",
        "Tuples: Once a tuple is created, its elements cannot be changed. You cannot add, remove, or modify elements.\n",
        "\n",
        "Syntax:\n",
        "\n",
        "Lists: Defined using square brackets [].\n",
        "\n",
        "Tuples: Defined using parentheses ().\n",
        "\n",
        "Memory Efficiency:\n",
        "\n",
        "Tuples are generally more memory-efficient than lists because they are immutable, and Python can optimize their storage.\n",
        "\n",
        "Performance:\n",
        "Due to their immutability, tuples can be slightly faster than lists for certain operations, especially when accessing elements.\n",
        "\n",
        "Use Cases:\n",
        "\n",
        "Lists: Use lists when you need a dynamic collection that can be modified\n",
        "frequently.\n",
        "\n",
        "Tuples: Use tuples when you need a collection that should remain constant, or when you want to ensure data integrity.\n",
        "\n",
        "Hashing:\n",
        "\n",
        "Tuples can be used as keys in dictionaries because they are immutable (hashable), while lists cannot.\n",
        "Generative AI is experimental.\n",
        "\n",
        "\n",
        "\n",
        "\n",
        "\n"
      ],
      "metadata": {
        "id": "wROo6MTpjevR"
      }
    },
    {
      "cell_type": "markdown",
      "source": [
        " 4.Describe how dictionaries store data.\n",
        "   - How Dictionaries Store Data in Python\n",
        "Python dictionaries store data using a hash table structure, which allows for fast lookups, insertions, and deletions in average O(1) time complexity. Here's how it works:\n",
        "\n",
        "1. Structure of a Dictionary\n",
        "A dictionary consists of key-value pairs, where each key is mapped to a value.\n",
        "\n",
        "Keys must be immutable (e.g., strings, numbers, tuples).\n",
        "\n",
        "Values can be any data type (mutable or immutable).\n",
        "\n",
        "2. Hashing and Memory Storage\n",
        "When a key-value pair is added to a dictionary:\n",
        "\n",
        "The key is hashed using Python’s built-in hash() function to generate a unique hash value (an integer).\n",
        "\n",
        "The hash value determines an index (slot) in an internal array (hash table) where the key-value pair is stored.\n",
        "\n",
        "The value is stored in that slot, linked to its corresponding key.\n",
        "\n",
        "3. Collision Handling\n",
        "Sometimes, two different keys can produce the same hash value (a collision). Python handles this using open addressing or probing, which means:\n",
        "\n",
        "If a slot is already occupied, Python searches for the next available slot and places the new key-value pair there.\n",
        "\n",
        "4. Dictionary Resizing\n",
        "Dictionaries resize dynamically when they get too full.\n",
        "\n",
        "When more elements are added, Python creates a new, larger hash table and rehashes the existing keys into new slots.\n",
        "\n",
        "5. Fast Lookups\n",
        "When accessing a value using my_dict[\"name\"], Python:\n",
        "\n",
        "Computes the hash of \"name\".\n",
        "\n",
        "Finds the corresponding memory slot in O(1) time.\n",
        "\n",
        "Retrieves the value \"Alice\".\n",
        "\n",
        "\n",
        "\n"
      ],
      "metadata": {
        "id": "yhx4SobOpH84"
      }
    },
    {
      "cell_type": "markdown",
      "source": [
        "5.Why might you use a set instead of a list in Python?\n",
        "  - 1.It doesn't maintain any element order.\n",
        "\n",
        " 2.Similar to the list, sets are also mutable. ...\n",
        "\n",
        " 3.The set doesn't contain duplicate elements. ...\n",
        "\n",
        " 4.It allows multiple mathematical operations such as union, intersection, and difference.\n",
        "\n",
        " 5.Set provides efficient membership testing that quickly checks whether the element exists.\n"
      ],
      "metadata": {
        "id": "68bMJ_VLDvvz"
      }
    },
    {
      "cell_type": "markdown",
      "source": [
        "6.What is a string in Python, and how is it different from a list?\n",
        "   - In Python, a string is an immutable sequence of characters enclosed in single or double quotes, while a list is a mutable, ordered sequence of items (which can be of any data type) enclosed in square brackets.\n",
        "\n",
        "Here's a more detailed explanation:\n",
        "\n",
        "Strings:\n",
        "\n",
        "Definition: A string is a sequence of characters, like letters, numbers, symbols, or spaces.\n",
        "\n",
        "Immutability: Once a string is created, its characters cannot be changed.\n",
        "\n",
        "Creation: Strings are created using single quotes ('...'), double quotes (\"...\"), or triple quotes ('''...''' or \"\"\"...\"\"\").\n",
        "\n",
        "Example: my_string = \"Hello, world!\"\n",
        "\n",
        "Lists:\n",
        "\n",
        "Definition:\n",
        "A list is an ordered collection of items, where each item can be of any data type (numbers, strings, other lists, etc.).\n",
        "\n",
        "Mutability:\n",
        "Lists are mutable, meaning their contents can be changed after creation (items can be added, removed, or modified).\n",
        "\n",
        "Creation:\n",
        "Lists are created using square brackets ([...]) with items separated by commas.\n",
        "\n",
        "Example:\n",
        "\n",
        "my_list = [1, \"apple\", 3.14, [1,2]]\n",
        "\n"
      ],
      "metadata": {
        "id": "dMtCHQuir4OU"
      }
    },
    {
      "cell_type": "markdown",
      "source": [
        "5.Why might you use a set instead of a list in Python?\n",
        "   \n",
        "  -\n",
        "  Because sets cannot have multiple occurrences of the same element, it makes sets highly useful to efficiently remove duplicate values from a list or tuple and to perform common math operations like unions and intersections.\n",
        "\n",
        "   Why Use a Set Instead of a List in Python?\n",
        "A set and a list are both used to store collections of items, but sets offer several advantages over lists in specific scenarios. Here are the key reasons why you might use a set instead of a list:\n",
        "\n",
        "1. Fast Lookups and Membership Tests (O(1) vs. O(n))\n",
        "Sets use hashing, which allows for constant-time (O(1)) lookups on average.\n",
        "\n",
        "Lists require a linear search (O(n)), making them slower for large datasets.\n",
        "\n"
      ],
      "metadata": {
        "id": "LbTRwlgFrkSe"
      }
    },
    {
      "cell_type": "markdown",
      "source": [],
      "metadata": {
        "id": "v9SsaHxAogi-"
      }
    },
    {
      "cell_type": "markdown",
      "source": [
        "7.How do tuples ensure data integrity in Python?\n",
        "   -\n",
        "How Tuples Ensure Data Integrity in Python\n",
        "A tuple in Python is an immutable data structure, meaning its contents cannot be changed after creation. This immutability plays a key role in ensuring data integrity by preventing accidental modifications. Here's how tuples help maintain reliable data:\n",
        "\n",
        "1. Immutability Prevents Accidental Changes\n",
        "Once a tuple is created, its values cannot be modified, added, or removed.\n",
        "Example:\n"
      ],
      "metadata": {
        "id": "Gu2A508EvAlj"
      }
    },
    {
      "cell_type": "code",
      "source": [
        "my_tuple = (1, 2, 3)\n",
        "my_tuple[1] = 10  # ❌ TypeError: 'tuple' object does not support item assignment\n"
      ],
      "metadata": {
        "colab": {
          "base_uri": "https://localhost:8080/",
          "height": 159
        },
        "collapsed": true,
        "id": "Xv4m7u_LvnSj",
        "outputId": "692b4cf3-7c58-4b33-87b0-bcc560de0e0d"
      },
      "execution_count": null,
      "outputs": [
        {
          "output_type": "error",
          "ename": "TypeError",
          "evalue": "'tuple' object does not support item assignment",
          "traceback": [
            "\u001b[0;31m---------------------------------------------------------------------------\u001b[0m",
            "\u001b[0;31mTypeError\u001b[0m                                 Traceback (most recent call last)",
            "\u001b[0;32m<ipython-input-6-c2ded3ceb7c3>\u001b[0m in \u001b[0;36m<cell line: 0>\u001b[0;34m()\u001b[0m\n\u001b[1;32m      1\u001b[0m \u001b[0mmy_tuple\u001b[0m \u001b[0;34m=\u001b[0m \u001b[0;34m(\u001b[0m\u001b[0;36m1\u001b[0m\u001b[0;34m,\u001b[0m \u001b[0;36m2\u001b[0m\u001b[0;34m,\u001b[0m \u001b[0;36m3\u001b[0m\u001b[0;34m)\u001b[0m\u001b[0;34m\u001b[0m\u001b[0;34m\u001b[0m\u001b[0m\n\u001b[0;32m----> 2\u001b[0;31m \u001b[0mmy_tuple\u001b[0m\u001b[0;34m[\u001b[0m\u001b[0;36m1\u001b[0m\u001b[0;34m]\u001b[0m \u001b[0;34m=\u001b[0m \u001b[0;36m10\u001b[0m  \u001b[0;31m# ❌ TypeError: 'tuple' object does not support item assignment\u001b[0m\u001b[0;34m\u001b[0m\u001b[0;34m\u001b[0m\u001b[0m\n\u001b[0m",
            "\u001b[0;31mTypeError\u001b[0m: 'tuple' object does not support item assignment"
          ]
        }
      ]
    },
    {
      "cell_type": "markdown",
      "source": [
        "2. Safe from Unintentional Side Effects\n",
        "Since tuples cannot be modified, functions that receive tuples as arguments cannot alter their contents.\n",
        "\n",
        "This prevents unexpected changes that could cause bugs.\n",
        "\n"
      ],
      "metadata": {
        "id": "FGfOM02Sv5Dx"
      }
    },
    {
      "cell_type": "code",
      "source": [
        "def modify_data(data):\n",
        "    data[0] = 100  # Would modify a list, but not a tuple\n",
        "\n",
        "my_list = [1, 2, 3]\n",
        "modify_data(my_list)  # List is modified\n",
        "\n",
        "my_tuple = (1, 2, 3)\n",
        "modify_data(my_tuple)  # ❌ TypeError prevents modification\n"
      ],
      "metadata": {
        "id": "fvtpETIpwAeq"
      },
      "execution_count": null,
      "outputs": []
    },
    {
      "cell_type": "markdown",
      "source": [
        "3. Hashability Allows Use as Dictionary Keys and Set Elements\n",
        "Since tuples are hashable (if they contain only immutable elements), they can be used as keys in dictionaries or elements in sets.\n",
        "\n",
        "This ensures data integrity because dictionary keys must be immutable.\n",
        "\n"
      ],
      "metadata": {
        "id": "yh-IrGdnwC69"
      }
    },
    {
      "cell_type": "code",
      "source": [
        "coordinates = {(10, 20): \"Point A\", (30, 40): \"Point B\"}\n",
        "print(coordinates[(10, 20)])  # Output: \"Point A\"\n"
      ],
      "metadata": {
        "id": "VFJ6yJHkwPW7"
      },
      "execution_count": null,
      "outputs": []
    },
    {
      "cell_type": "markdown",
      "source": [
        "4. Prevents Unintended Data Corruption in Multi-Threading\n",
        "In multi-threaded programs, tuples are thread-safe since they cannot be modified.\n",
        "\n",
        "This reduces the risk of data corruption caused by concurrent modifications.\n",
        "\n",
        "5. Enhances Code Readability and Intent\n",
        "When a tuple is used instead of a list, it signals to other developers that the data should not be changed.\n",
        "\n",
        "This improves code clarity and reduces errors.\n"
      ],
      "metadata": {
        "id": "AWZkpeG5wRhf"
      }
    },
    {
      "cell_type": "markdown",
      "source": [
        "8.What is a hash table, and how does it relate to dictionaries in Python?\n",
        "  - A hash table is a data structure that uses a hash function to map keys to values, enabling fast data retrieval and storage, while Python dictionaries are built upon hash tables, offering a high-level abstraction for working with key-value pairs.\n",
        "\n",
        " Here's a more detailed explanation:\n",
        "\n",
        " What is a Hash Table?\n",
        "\n",
        "  A hash table (also known as a hash map or associative array) is a data structure that stores data in key-value pairs.\n",
        "\n",
        " It uses a hash function to compute an index (also called a hash code) into an array of buckets or slots, from which the desired value can be found.\n",
        "\n",
        " The hash function takes a key as input and returns an integer (the hash code) that is used to determine the location of the corresponding value in the array.\n",
        "Hash tables provide efficient lookup, insertion, and deletion of data.\n",
        "\n",
        "   \n",
        "   How Python Dictionaries Relate to Hash Tables:\n",
        "   \n",
        "   In Python, dictionaries are implemented using hash tables.\n",
        "   \n",
        "   When you create a dictionary and add key-value pairs, Python uses a hash function to determine where to store the value associated with each key.\n",
        "\n",
        "  The hash function maps the key to an index in the underlying hash table (array of buckets), allowing for fast retrieval of the value.\n",
        "\n",
        "  Python dictionaries provide a high-level abstraction for working with hash tables, making it easier for programmers to use this powerful data structure.\n"
      ],
      "metadata": {
        "id": "pQBPCawqw6AW"
      }
    },
    {
      "cell_type": "markdown",
      "source": [
        "9. Can lists contain different data types in Python?\n",
        "   - ✅ Yes! In Python, lists are heterogeneous, meaning they can store elements of different data types within the same list.\n",
        "   1. Lists Can Store Mixed Data Types\n",
        "A single list can contain integers, floats, strings, booleans, other lists, dictionaries, tuples, and even functions.\n",
        "\n"
      ],
      "metadata": {
        "id": "4cURf3JByELy"
      }
    },
    {
      "cell_type": "code",
      "source": [
        "#EXAMPLE\n",
        "my_list = [42, \"hello\", 3.14, True, [1, 2, 3], {\"key\": \"value\"}, (5, 6)]\n",
        "print(my_list)\n"
      ],
      "metadata": {
        "colab": {
          "base_uri": "https://localhost:8080/"
        },
        "id": "Uo9Hj2vnphy0",
        "outputId": "3e86ac43-d023-440e-ed8a-c05ba384a2a5"
      },
      "execution_count": null,
      "outputs": [
        {
          "output_type": "stream",
          "name": "stdout",
          "text": [
            "[42, 'hello', 3.14, True, [1, 2, 3], {'key': 'value'}, (5, 6)]\n"
          ]
        }
      ]
    },
    {
      "cell_type": "markdown",
      "source": [
        "2. Lists Can Store Functions\n",
        "Lists can even store functions as elements.\n",
        "\n"
      ],
      "metadata": {
        "id": "fmzJj9nLy9Et"
      }
    },
    {
      "cell_type": "code",
      "source": [
        "#Example\n",
        "def greet():\n",
        "    return \"Hello!\"\n",
        "\n",
        "my_list = [greet, len, max]\n",
        "print(my_list[0]())  # Calls greet() function\n"
      ],
      "metadata": {
        "colab": {
          "base_uri": "https://localhost:8080/"
        },
        "id": "tAsW9liNzFcp",
        "outputId": "96c62c14-0a76-443b-a782-bc43c40aa411"
      },
      "execution_count": null,
      "outputs": [
        {
          "output_type": "stream",
          "name": "stdout",
          "text": [
            "Hello!\n"
          ]
        }
      ]
    },
    {
      "cell_type": "markdown",
      "source": [
        "3. Lists Can Store Objects\n",
        "Python allows lists to store custom objects from user-defined classes.\n",
        "\n"
      ],
      "metadata": {
        "id": "GdzNjrD5zE2Z"
      }
    },
    {
      "cell_type": "code",
      "source": [
        "class Person:\n",
        "    def __init__(self, name):\n",
        "        self.name = name\n",
        "\n",
        "p1 = Person(\"Alice\")\n",
        "p2 = Person(\"Bob\")\n",
        "\n",
        "people = [p1, p2]\n",
        "print(people[0].name)  # Access object properties\n"
      ],
      "metadata": {
        "colab": {
          "base_uri": "https://localhost:8080/"
        },
        "id": "6gWjZvoizXfc",
        "outputId": "43f62591-4516-4572-f63c-f708ad14b72b"
      },
      "execution_count": null,
      "outputs": [
        {
          "output_type": "stream",
          "name": "stdout",
          "text": [
            "Alice\n"
          ]
        }
      ]
    },
    {
      "cell_type": "markdown",
      "source": [
        "4. When to Use Mixed-Type Lists?\n",
        "When working with JSON data, which often contains mixed types.\n",
        "\n",
        "When storing various configurations (e.g., [42, \"config\", 3.14, None]).\n",
        "\n",
        "When passing heterogeneous arguments to a function.\n",
        "\n",
        "5. When to Avoid Mixed-Type Lists?\n",
        "When needing consistent data processing (e.g., sorting a list with mixed types can cause errors).\n",
        "\n",
        "When optimizing for performance, as mixed types may reduce efficiency.\n",
        "\n",
        "✅ Use lists when you need flexible, dynamic collections of data.\n",
        "❌ Avoid mixed types when working with structured, type-specific data."
      ],
      "metadata": {
        "id": "FNLhE_1By6ln"
      }
    },
    {
      "cell_type": "markdown",
      "source": [
        "10.Explain why strings are immutable in Python?\n",
        "   - Python strings are \"immutable\" which means they cannot be changed after they are created (Java strings also use this immutable style). Since strings can't be changed, we construct *new* strings as we go to represent computed values. So for example the expression ('hello' + 'there') takes in the 2 strings 'hello' and 'there' and builds a new string 'hellothere'.\n",
        "\n"
      ],
      "metadata": {
        "id": "LFnBDZrxzqxI"
      }
    },
    {
      "cell_type": "markdown",
      "source": [
        "11.What advantages do dictionaries offer over lists for certain tasks?\n",
        "   - Dictionaries and lists are two fundamental data structures in Python, each with its unique strengths and weaknesses. Dictionaries excel in scenarios requiring fast lookups, key-value associations, and complex data mappings, while lists are ideal for ordered collections, sequential processing, and simple data storage.\n",
        "   \n"
      ],
      "metadata": {
        "id": "zvJpyezf0cHv"
      }
    },
    {
      "cell_type": "markdown",
      "source": [
        "12.Describe a scenario where using a tuple would be preferable over a list?\n",
        "  - Use a tuple if you need an immutable collection where the elements won't change after creation. Tuples are generally faster and more memory-efficient than lists, making them better for fixed collections, especially as dictionary keys or when iteration speed is crucial.\n"
      ],
      "metadata": {
        "id": "kJOTl1Ga1DSw"
      }
    },
    {
      "cell_type": "markdown",
      "source": [
        "13.How do sets handle duplicate values in Python?\n",
        "  - Sets in Python are unordered collections of unique elements. By their nature, duplicates aren't allowed. Therefore, converting a list into a set removes the duplicates. Changing the set into a list yields a new list without duplicates.\n"
      ],
      "metadata": {
        "id": "-IcZxl1V124I"
      }
    },
    {
      "cell_type": "markdown",
      "source": [
        "14.How does the “in” keyword work differently for lists and dictionaries?\n",
        "  - The in keyword is used to check membership in a collection, but it behaves differently for lists and dictionaries in terms of performance and what it checks.\n",
        "\n",
        "1. in with Lists (Linear Search - O(n))\n",
        "When used with a list, Python checks each element one by one (linear search).\n",
        "\n",
        "Time Complexity: O(n) (slower for large lists).\n",
        "\n",
        "2. in with Dictionaries (Hash Table Lookup - O(1))\n",
        "When used with a dictionary, in checks for keys only (not values).\n",
        "\n",
        "Since dictionaries use hash tables, lookups are much faster than lists.\n",
        "\n",
        "Time Complexity: O(1) (average case, much faster than a list).\n",
        "3. Checking Values in a Dictionary (O(n))\n",
        "If you want to check for a value in a dictionary, you must explicitly use .values().\n",
        "\n"
      ],
      "metadata": {
        "id": "RzPK2qZt1-je"
      }
    },
    {
      "cell_type": "markdown",
      "source": [
        "15.Can you modify the elements of a tuple? Explain why or why not.\n",
        "   - No, you cannot directly modify the elements of a tuple after it's created because tuples are immutable, meaning their contents cannot be changed once they are defined.\n",
        "\n",
        "Here's a more detailed explanation:\n",
        "\n",
        "Immutability :\n",
        "Tuples are designed to be immutable, meaning that once a tuple is created, you cannot add, remove, or change its elements.\n",
        "\n",
        "Why Immutability?\n",
        "\n",
        "Immutability ensures data integrity and predictability. Because a tuple's contents cannot be altered, you can rely on the fact that the values within it will remain constant throughout the program's execution.\n",
        "\n",
        "Alternative:\n",
        "\n",
        "If you need a data structure that allows modification, you should use a list instead of a tuple.\n",
        "Example:\n",
        "Python\n",
        "\n",
        "    my_tuple = (1, 2, 3)\n",
        "    # Attempting to modify the tuple will result in an error\n",
        "    # my_tuple[0] = 4  # This will raise a TypeError\n",
        "    \n",
        "  Tuples are unchangeable, meaning that you cannot change, add, or remove items once the tuple is created.\n"
      ],
      "metadata": {
        "id": "ahzSuZzd22eM"
      }
    },
    {
      "cell_type": "markdown",
      "source": [
        "16.What is a nested dictionary, and give an example of its use case?\n",
        "   - What Is a Nested Dictionary?\n",
        "A nested dictionary is a dictionary inside another dictionary. This allows us to store complex hierarchical data in a structured way.\n",
        "\n",
        "\n"
      ],
      "metadata": {
        "id": "6oe_r5en4Pzj"
      }
    },
    {
      "cell_type": "code",
      "source": [
        "#Example of a Nested Dictionary\n",
        "students = {\n",
        "    \"Alice\": {\"age\": 22, \"grade\": \"A\", \"courses\": [\"Math\", \"CS\"]},\n",
        "    \"Bob\": {\"age\": 24, \"grade\": \"B\", \"courses\": [\"Physics\", \"Chemistry\"]},\n",
        "}\n",
        "\n",
        "print(students[\"Alice\"][\"grade\"])  # ✅ Output: A\n",
        "print(students[\"Bob\"][\"courses\"])  # ✅ Output: ['Physics', 'Chemistry']\n"
      ],
      "metadata": {
        "id": "z7fywi495CmD"
      },
      "execution_count": null,
      "outputs": []
    },
    {
      "cell_type": "markdown",
      "source": [
        "Use Case: Storing Employee Records in an Organization\n",
        "A company can use a nested dictionary to store employee details grouped by department.\n",
        "\n"
      ],
      "metadata": {
        "id": "EyZNtmXZ5hqU"
      }
    },
    {
      "cell_type": "code",
      "source": [
        "company = {\n",
        "    \"IT\": {\n",
        "        \"John\": {\"age\": 30, \"role\": \"Developer\", \"salary\": 70000},\n",
        "        \"Jane\": {\"age\": 28, \"role\": \"Data Scientist\", \"salary\": 80000},\n",
        "    },\n",
        "    \"HR\": {\n",
        "        \"Mark\": {\"age\": 35, \"role\": \"Manager\", \"salary\": 90000},\n",
        "        \"Emma\": {\"age\": 26, \"role\": \"Recruiter\", \"salary\": 60000},\n",
        "    },\n",
        "}\n",
        "\n",
        "# Accessing employee details\n",
        "print(company[\"IT\"][\"John\"][\"role\"])  # ✅ Output: Developer\n",
        "print(company[\"HR\"][\"Emma\"][\"salary\"])  # ✅ Output: 60000\n",
        "\n"
      ],
      "metadata": {
        "colab": {
          "base_uri": "https://localhost:8080/"
        },
        "id": "uSZF9uUYzC-R",
        "outputId": "20762636-95cd-44bc-dcb7-30ed139a0eb0"
      },
      "execution_count": null,
      "outputs": [
        {
          "output_type": "stream",
          "name": "stdout",
          "text": [
            "Developer\n",
            "60000\n"
          ]
        }
      ]
    },
    {
      "cell_type": "markdown",
      "source": [
        "When to Use a Nested Dictionary?\n",
        "✅ When storing structured hierarchical data (e.g., student records, company employees).\n",
        "✅ When you need quick access to grouped information.\n",
        "✅ When working with JSON-like data in APIs.\n",
        "\n",
        "\n",
        "\n",
        "\n",
        "\n",
        "\n",
        "\n",
        "\n",
        "\n",
        "\n",
        "\n",
        "\n",
        "\n"
      ],
      "metadata": {
        "id": "-qcrWYCw5zp5"
      }
    },
    {
      "cell_type": "markdown",
      "source": [
        "17. Describe the time complexity of accessing elements in a dictionary?\n",
        "  - Accessing elements in a dictionary (using a key) typically has an average time complexity of O(1), meaning it takes constant time regardless of the dictionary's size.\n",
        "\n",
        "Here's a more detailed explanation:\n",
        "\n",
        "Dictionaries and Hash Tables:\n",
        "Dictionaries are often implemented using hash tables (or hash maps). Hash tables allow for very fast lookups by using a hash function to map keys to their corresponding values.\n",
        "\n",
        "Average Case O(1) Complexity:\n",
        "The hash function allows you to quickly determine the location of a value in the dictionary based on its key. This lookup process takes, on average, a fixed amount of time, regardless of the number of key-value pairs in the dictionary.\n",
        "\n",
        "Worst Case O(n) Complexity:\n",
        "In the worst-case scenario (e.g., if there are many hash collisions), accessing an element can take O(n) time, where n is the number of key-value pairs. However, this scenario is rare in practice, as good hash functions are designed to minimize collisions.\n",
        "\n",
        "Example:\n",
        "Imagine a dictionary with a million key-value pairs. Accessing a value using its key still takes approximately the same amount of time as accessing a value in a dictionary with only a few key-value pairs.\n"
      ],
      "metadata": {
        "id": "2mz57Hph55Aj"
      }
    },
    {
      "cell_type": "markdown",
      "source": [
        "18.In what situations are lists preferred over dictionaries?\n",
        "  - While dictionaries are useful for key-value storage and fast lookups, lists are preferred in several scenarios where order, indexing, and iteration are important.\n",
        "\n",
        "1. When You Need to Maintain Order (O(1) Indexing)\n",
        "Lists maintain the order of elements, allowing fast sequential access using indexes.\n",
        "\n",
        "Dictionaries (Python 3.7+) also maintain insertion order, but lists allow direct indexing.\n",
        "\n"
      ],
      "metadata": {
        "id": "aACnVjgs6X1G"
      }
    },
    {
      "cell_type": "code",
      "source": [
        "#Example: Ordered Data (Steps in a Process)\n",
        "\n",
        "steps = [\"Collect Data\", \"Clean Data\", \"Analyze Data\", \"Visualize Data\"]\n",
        "print(steps[2])  # ✅ Output: Analyze Data (Direct Index Access)\n"
      ],
      "metadata": {
        "id": "gimjzlS65yBI"
      },
      "execution_count": null,
      "outputs": []
    },
    {
      "cell_type": "markdown",
      "source": [
        "2. When You Need Indexed Access (O(1))\n",
        "Lists support direct access using indexes.\n",
        "\n",
        "Dictionaries require key-based lookups, which can be inconvenient for numerical indexing.\n"
      ],
      "metadata": {
        "id": "d9_oZFiP7vtM"
      }
    },
    {
      "cell_type": "code",
      "source": [
        "#Example: Accessing by Index\n",
        "\n",
        "\n",
        "fruits = [\"Apple\", \"Banana\", \"Cherry\"]\n",
        "print(fruits[1])  # ✅ Output: Banana"
      ],
      "metadata": {
        "colab": {
          "base_uri": "https://localhost:8080/"
        },
        "id": "z7V7hF988aDX",
        "outputId": "54b2b397-fa8d-4c7a-e754-d400e5d59eff"
      },
      "execution_count": null,
      "outputs": [
        {
          "output_type": "stream",
          "name": "stdout",
          "text": [
            "Banana\n"
          ]
        }
      ]
    },
    {
      "cell_type": "markdown",
      "source": [
        "3. When Storing Simple Collections of Data\n",
        "If you only need to store a list of items without additional attributes, a list is better."
      ],
      "metadata": {
        "id": "LTt8dZwj8qy3"
      }
    },
    {
      "cell_type": "code",
      "source": [
        "#Example: Storing Names of Student.\n",
        "students = [\"Alice\", \"Bob\", \"Charlie\"]\n"
      ],
      "metadata": {
        "id": "g2SpYJ7O8v0b"
      },
      "execution_count": null,
      "outputs": []
    },
    {
      "cell_type": "markdown",
      "source": [
        "19. Why are dictionaries considered unordered, and how does that affect data retrieval?\n",
        "  - 1. Dictionaries Were Historically Unordered\n",
        "Before Python 3.7, dictionaries were unordered because they used a hash table for storing keys.\n",
        "\n",
        "This meant that dictionary elements did not maintain insertion order.\n",
        "\n",
        "Starting from Python 3.7, dictionaries preserve the order in which elements were added.\n",
        "\n"
      ],
      "metadata": {
        "id": "j-2wUhkr88AM"
      }
    },
    {
      "cell_type": "code",
      "source": [
        "#Example in Python 3.6 and earlier (unordered behavior)\n",
        "my_dict = {\"banana\": 3, \"apple\": 5, \"cherry\": 2}\n",
        "print(my_dict)  # ❌ Order was unpredictable\n",
        "\n",
        "#Example in Python 3.7+ (ordered behavior)\n",
        "my_dict = {\"banana\": 3, \"apple\": 5, \"cherry\": 2}\n",
        "print(my_dict)  # ✅ Order is maintained as inserted\n"
      ],
      "metadata": {
        "id": "2-2GJH879p5l"
      },
      "execution_count": null,
      "outputs": []
    },
    {
      "cell_type": "markdown",
      "source": [
        "2. How Does This Affect Data Retrieval?\n",
        "✅ Fast Lookups (O(1))\n",
        "\n",
        "Dictionaries use a hashing mechanism that allows constant-time lookups for keys.\n",
        "\n",
        "This makes dictionary retrieval much faster than lists.\n",
        "\n",
        "❌ No Index-Based Access\n",
        "\n",
        "Unlike lists, dictionaries do not support numeric indexing.\n",
        "\n",
        "You must use keys to retrieve values.\n",
        "\n"
      ],
      "metadata": {
        "id": "6HBDnBgr-Mgy"
      }
    },
    {
      "cell_type": "code",
      "source": [
        "#Example: Fast Key-Based Retrieval (O(1))\n",
        "my_dict = {\"name\": \"Alice\", \"age\": 25, \"city\": \"New York\"}\n",
        "print(my_dict[\"age\"])  # ✅ Output: 25 (direct lookup)\n",
        "\n",
        "#Example: No Index-Based Access (Error)\n",
        "print(my_dict[1])  # ❌ TypeError: KeyError, because dictionaries don't support numeric indexes\n"
      ],
      "metadata": {
        "id": "JjQhKtBM-XKQ"
      },
      "execution_count": null,
      "outputs": []
    },
    {
      "cell_type": "markdown",
      "source": [
        "3. Why Is Ordering Still Important?\n",
        "Even though Python 3.7+ maintains insertion order:\n",
        "\n",
        "If you iterate over a dictionary, it will return elements in insertion order.\n",
        "\n",
        "Sorting a dictionary requires extra steps (like using sorted()).\n",
        "\n"
      ],
      "metadata": {
        "id": "VKeykTP3-qL0"
      }
    },
    {
      "cell_type": "code",
      "source": [
        "# Example: Iterating Over a Dictionary\n",
        "for key, value in my_dict.items():\n",
        "    print(key, \"->\", value)\n",
        "\n",
        "#Sorting a Dictionary by Keys\n",
        "sorted_dict = dict(sorted(my_dict.items()))  # Sort by key alphabetically\n",
        "print(sorted_dict)\n",
        "\n",
        "\n"
      ],
      "metadata": {
        "id": "j7FOM2J4-yK_"
      },
      "execution_count": null,
      "outputs": []
    },
    {
      "cell_type": "markdown",
      "source": [
        "20.Explain the difference between a list and a dictionary in terms of data retrieval.\n",
        "  - In terms of data retrieval, lists access elements by their numerical index (starting from 0), while dictionaries access elements by their unique, associated key.\n",
        "\n",
        "  A list is an ordered collection of items, whereas a dictionary is an unordered data collection in a key: value pair. Elements from the list can be accessed using the index, while the elements of the dictionary can be accessed using keys.\n",
        "\n",
        "\n",
        "Here's a more detailed explanation:\n",
        "\n",
        "Lists:\n",
        "\n",
        "Are ordered collections of items.\n",
        "\n",
        "Elements are accessed using their position (index) within the list.\n",
        "\n",
        "For example, to access the third element in a list, you\n",
        "would use my_list.\n",
        "\n",
        "Lists are good for situations where the order of elements matters and you need to access elements based on their position.\n",
        "\n",
        "Dictionaries:\n",
        "\n",
        "Are unordered collections of key-value pairs.\n",
        "\n",
        "Elements are accessed using their unique key, not their\n",
        "position.\n",
        "\n",
        "For example, to access the value associated with the key \"name\" in a dictionary, you would use my_dictionary[\"name\"].\n",
        "Dictionaries are good for situations where you need to access data quickly by a specific identifier (key).\n",
        "\n"
      ],
      "metadata": {
        "id": "iZDMZix3_RcZ"
      }
    },
    {
      "cell_type": "markdown",
      "source": [
        "#Practical Questions\n"
      ],
      "metadata": {
        "id": "uhCMcF6LG-RT"
      }
    },
    {
      "cell_type": "code",
      "source": [
        "# prompt: 1. Write a code to create a string with your name and print it.\n",
        "\n",
        "name = \"pratham\"  # Replace with your actual name\n",
        "name\n"
      ],
      "metadata": {
        "colab": {
          "base_uri": "https://localhost:8080/",
          "height": 35
        },
        "id": "UJ4sw0GBHLU0",
        "outputId": "9fae2987-769b-46aa-9344-d9b9f55da646"
      },
      "execution_count": null,
      "outputs": [
        {
          "output_type": "execute_result",
          "data": {
            "text/plain": [
              "'pratham'"
            ],
            "application/vnd.google.colaboratory.intrinsic+json": {
              "type": "string"
            }
          },
          "metadata": {},
          "execution_count": 12
        }
      ]
    },
    {
      "cell_type": "code",
      "source": [
        "# prompt: 2. Write a code to find the length of the string \"Hello World\"\n",
        "\n",
        "string = \"Hello World\"\n",
        "length = len(string)\n",
        "length\n"
      ],
      "metadata": {
        "colab": {
          "base_uri": "https://localhost:8080/"
        },
        "id": "RgmEAriBallo",
        "outputId": "6535e6e7-fd15-4175-bb45-ba19fc7b17b0"
      },
      "execution_count": null,
      "outputs": [
        {
          "output_type": "execute_result",
          "data": {
            "text/plain": [
              "11"
            ]
          },
          "metadata": {},
          "execution_count": 1
        }
      ]
    },
    {
      "cell_type": "code",
      "source": [
        "# prompt: 3. Write a code to convert the string \"hello\" to uppercase.\n",
        "\n",
        "string = \"hello\"\n",
        "uppercase_string = string.upper()\n",
        "uppercase_string\n",
        "\n"
      ],
      "metadata": {
        "colab": {
          "base_uri": "https://localhost:8080/",
          "height": 35
        },
        "id": "CbPeSXvNbYR7",
        "outputId": "f67fa57f-e10b-4698-a59e-2897678774e5"
      },
      "execution_count": null,
      "outputs": [
        {
          "output_type": "execute_result",
          "data": {
            "text/plain": [
              "'HELLO'"
            ],
            "application/vnd.google.colaboratory.intrinsic+json": {
              "type": "string"
            }
          },
          "metadata": {},
          "execution_count": 5
        }
      ]
    },
    {
      "cell_type": "code",
      "source": [
        "# prompt: 4. Write a code to replace the word \"apple\" with \"orange\" in the string \"I like apple\".\n",
        "\n",
        "my_string = \"I like apple\"\n",
        "new_string = my_string.replace(\"apple\", \"orange\")\n",
        "new_string\n"
      ],
      "metadata": {
        "colab": {
          "base_uri": "https://localhost:8080/",
          "height": 35
        },
        "id": "ZqUI45wRcDwL",
        "outputId": "81db1565-ddb8-4666-b041-820a44263bd9"
      },
      "execution_count": null,
      "outputs": [
        {
          "output_type": "execute_result",
          "data": {
            "text/plain": [
              "'I like orange'"
            ],
            "application/vnd.google.colaboratory.intrinsic+json": {
              "type": "string"
            }
          },
          "metadata": {},
          "execution_count": 6
        }
      ]
    },
    {
      "cell_type": "code",
      "source": [
        "# prompt: 5.  Write a code to create a list with numbers 1 to 5 and print it.\n",
        "\n",
        "my_list = list(range(1, 6))\n",
        "my_list\n"
      ],
      "metadata": {
        "colab": {
          "base_uri": "https://localhost:8080/"
        },
        "id": "h2ryut59cPe3",
        "outputId": "7a66d1b5-81c8-4f5e-a3b1-87ff34907af9"
      },
      "execution_count": null,
      "outputs": [
        {
          "output_type": "execute_result",
          "data": {
            "text/plain": [
              "[1, 2, 3, 4, 5]"
            ]
          },
          "metadata": {},
          "execution_count": 8
        }
      ]
    },
    {
      "cell_type": "code",
      "source": [
        "# prompt: 6. Write a code to append the number 10 to the list [1, 2, 3, 4].\n",
        "\n",
        "my_list = [1, 2, 3, 4]\n",
        "my_list.append(10)\n",
        "my_list\n"
      ],
      "metadata": {
        "colab": {
          "base_uri": "https://localhost:8080/"
        },
        "id": "sYP8VXSOcucb",
        "outputId": "01cd7515-4305-4f79-aa53-68d1977f72ed"
      },
      "execution_count": null,
      "outputs": [
        {
          "output_type": "execute_result",
          "data": {
            "text/plain": [
              "[1, 2, 3, 4, 10]"
            ]
          },
          "metadata": {},
          "execution_count": 9
        }
      ]
    },
    {
      "cell_type": "code",
      "source": [
        "# prompt: 7. Write a code to slice the first 3 characters from the string \"Python Programming\"\n",
        "\n",
        "my_string = \"Python Programming\"\n",
        "sliced_string = my_string[:3]\n",
        "sliced_string\n"
      ],
      "metadata": {
        "colab": {
          "base_uri": "https://localhost:8080/",
          "height": 35
        },
        "id": "Jrmc25D7a-Ev",
        "outputId": "3439e48a-b1ba-4a22-e053-eed21dde36cc"
      },
      "execution_count": null,
      "outputs": [
        {
          "output_type": "execute_result",
          "data": {
            "text/plain": [
              "'Pyt'"
            ],
            "application/vnd.google.colaboratory.intrinsic+json": {
              "type": "string"
            }
          },
          "metadata": {},
          "execution_count": 2
        }
      ]
    },
    {
      "cell_type": "code",
      "source": [
        "# prompt: 8.  Write a code to remove the number 3 from the list [1, 2, 3, 4, 5].\n",
        "\n",
        "my_list = [1, 2, 3, 4, 5]\n",
        "my_list.remove(3)\n",
        "my_list\n"
      ],
      "metadata": {
        "colab": {
          "base_uri": "https://localhost:8080/"
        },
        "id": "vDsFQUEZc7m1",
        "outputId": "df06355a-06cb-48ae-e4cf-c10b35d9e234"
      },
      "execution_count": null,
      "outputs": [
        {
          "output_type": "execute_result",
          "data": {
            "text/plain": [
              "[1, 2, 4, 5]"
            ]
          },
          "metadata": {},
          "execution_count": 12
        }
      ]
    },
    {
      "cell_type": "code",
      "source": [
        "# prompt: 9.Write a code to access the second element in the list ['a', 'b', 'c', 'd'].\n",
        "\n",
        "my_list = ['a', 'b', 'c', 'd']\n",
        "second_element = my_list[1]\n",
        "second_element\n"
      ],
      "metadata": {
        "colab": {
          "base_uri": "https://localhost:8080/",
          "height": 35
        },
        "id": "nWtcop2AdIbV",
        "outputId": "56314de2-e040-4a97-9de6-e2d6125ed75e"
      },
      "execution_count": null,
      "outputs": [
        {
          "output_type": "execute_result",
          "data": {
            "text/plain": [
              "'b'"
            ],
            "application/vnd.google.colaboratory.intrinsic+json": {
              "type": "string"
            }
          },
          "metadata": {},
          "execution_count": 11
        }
      ]
    },
    {
      "cell_type": "code",
      "source": [
        "# prompt: 10. Write a code to reverse the list [10, 20, 30, 40, 50].\n",
        "\n",
        "my_list = [10, 20, 30, 40, 50]\n",
        "reversed_list = my_list[::-1]\n",
        "reversed_list\n"
      ],
      "metadata": {
        "colab": {
          "base_uri": "https://localhost:8080/"
        },
        "id": "Yyn9cpfjdb7t",
        "outputId": "7ab6df27-475d-4924-93d4-db3587d37b7c"
      },
      "execution_count": null,
      "outputs": [
        {
          "output_type": "execute_result",
          "data": {
            "text/plain": [
              "[50, 40, 30, 20, 10]"
            ]
          },
          "metadata": {},
          "execution_count": 13
        }
      ]
    },
    {
      "cell_type": "code",
      "source": [
        "# prompt: 11. Write a code to create a tuple with the elements 100, 200, 300 and print it.\n",
        "\n",
        "my_tuple = (100, 200, 300)\n",
        "my_tuple\n"
      ],
      "metadata": {
        "colab": {
          "base_uri": "https://localhost:8080/"
        },
        "id": "ZcEGdvaueLtc",
        "outputId": "5f15c91b-35cc-43ae-99e5-ec6e6c6947f9"
      },
      "execution_count": null,
      "outputs": [
        {
          "output_type": "execute_result",
          "data": {
            "text/plain": [
              "(100, 200, 300)"
            ]
          },
          "metadata": {},
          "execution_count": 15
        }
      ]
    },
    {
      "cell_type": "code",
      "source": [
        "# prompt: 12. Write a code to access the second-to-last element of the tuple ('red', 'green', 'blue', 'yellow').\n",
        "\n",
        "my_tuple = ('red', 'green', 'blue', 'yellow')\n",
        "second_to_last_element = my_tuple[-2]\n",
        "second_to_last_element\n"
      ],
      "metadata": {
        "colab": {
          "base_uri": "https://localhost:8080/",
          "height": 35
        },
        "id": "EYgfVo-TehKp",
        "outputId": "4f5d8688-9e2c-413f-e388-a1afad458636"
      },
      "execution_count": null,
      "outputs": [
        {
          "output_type": "execute_result",
          "data": {
            "text/plain": [
              "'blue'"
            ],
            "application/vnd.google.colaboratory.intrinsic+json": {
              "type": "string"
            }
          },
          "metadata": {},
          "execution_count": 16
        }
      ]
    },
    {
      "cell_type": "code",
      "source": [
        "# prompt: 13. Write a code to find the minimum number in the tuple (10, 20, 5, 15).\n",
        "\n",
        "my_tuple = (10, 20, 5, 15)\n",
        "min_number = min(my_tuple)\n",
        "min_number\n"
      ],
      "metadata": {
        "colab": {
          "base_uri": "https://localhost:8080/"
        },
        "id": "NAuXI-jKep9c",
        "outputId": "7cc68b1b-c1e7-4af7-b92d-c15def75ee04"
      },
      "execution_count": null,
      "outputs": [
        {
          "output_type": "execute_result",
          "data": {
            "text/plain": [
              "5"
            ]
          },
          "metadata": {},
          "execution_count": 17
        }
      ]
    },
    {
      "cell_type": "code",
      "source": [
        "# prompt: 14. Write a code to find the index of the element \"cat\" in the tuple ('dog', 'cat', 'rabbit').\n",
        "\n",
        "my_tuple = ('dog', 'cat', 'rabbit')\n",
        "index_of_cat = my_tuple.index('cat')\n",
        "index_of_cat\n"
      ],
      "metadata": {
        "colab": {
          "base_uri": "https://localhost:8080/"
        },
        "id": "bgV3EQwHe09M",
        "outputId": "b218739f-cc4b-4e97-d488-92450c025832"
      },
      "execution_count": null,
      "outputs": [
        {
          "output_type": "execute_result",
          "data": {
            "text/plain": [
              "1"
            ]
          },
          "metadata": {},
          "execution_count": 19
        }
      ]
    },
    {
      "cell_type": "code",
      "source": [
        "# prompt: 15. Write a code to create a tuple containing three different fruits and check if \"kiwi\" is in it.\n",
        "\n",
        "fruits = (\"apple\", \"banana\", \"orange\")\n",
        "if \"kiwi\" in fruits:\n",
        "  print(\"Kiwi is in the tuple.\")\n",
        "else:\n",
        "  print(\"Kiwi is not in the tuple.\")\n"
      ],
      "metadata": {
        "colab": {
          "base_uri": "https://localhost:8080/"
        },
        "id": "U-dBkoPseMuL",
        "outputId": "b873f97c-334a-4b93-c6b9-94a68aeb6c18"
      },
      "execution_count": null,
      "outputs": [
        {
          "output_type": "stream",
          "name": "stdout",
          "text": [
            "Kiwi is not in the tuple.\n"
          ]
        }
      ]
    },
    {
      "cell_type": "code",
      "source": [
        "# prompt: 16. Write a code to create a set with the elements 'a', 'b', 'c' and print it.\n",
        "\n",
        "my_set = {'a', 'b', 'c'}\n",
        "my_set\n"
      ],
      "metadata": {
        "colab": {
          "base_uri": "https://localhost:8080/"
        },
        "id": "ea0fIt1-fcSG",
        "outputId": "61626e4a-60f9-4ffa-d226-5305872dac6d"
      },
      "execution_count": null,
      "outputs": [
        {
          "output_type": "execute_result",
          "data": {
            "text/plain": [
              "{'a', 'b', 'c'}"
            ]
          },
          "metadata": {},
          "execution_count": 22
        }
      ]
    },
    {
      "cell_type": "code",
      "source": [
        "# prompt: 17. Write a code to clear all elements from the set {1, 2, 3, 4, 5}.\n",
        "\n",
        "my_set = {1, 2, 3, 4, 5}\n",
        "my_set.clear()\n",
        "print(my_set)  # Output: set()\n"
      ],
      "metadata": {
        "colab": {
          "base_uri": "https://localhost:8080/"
        },
        "id": "B0o4qu4ug4_N",
        "outputId": "5976e787-ef99-455a-ba81-d42d31449437"
      },
      "execution_count": null,
      "outputs": [
        {
          "output_type": "stream",
          "name": "stdout",
          "text": [
            "set()\n"
          ]
        }
      ]
    },
    {
      "cell_type": "code",
      "source": [
        "# prompt: 18. Write a code to remove the element 4 from the set {1, 2, 3, 4}.\n",
        "\n",
        "my_set = {1, 2, 3, 4}\n",
        "my_set.remove(4)\n",
        "my_set\n"
      ],
      "metadata": {
        "colab": {
          "base_uri": "https://localhost:8080/"
        },
        "id": "watY5hpNhBAm",
        "outputId": "43474e44-3e54-4f21-ec5c-cbe933239a66"
      },
      "execution_count": null,
      "outputs": [
        {
          "output_type": "execute_result",
          "data": {
            "text/plain": [
              "{1, 2, 3}"
            ]
          },
          "metadata": {},
          "execution_count": 24
        }
      ]
    },
    {
      "cell_type": "code",
      "source": [
        "# prompt: 19. Write a code to find the union of two sets {1, 2, 3} and {3, 4, 5}.\n",
        "\n",
        "set1 = {1, 2, 3}\n",
        "set2 = {3, 4, 5}\n",
        "\n",
        "union_set = set1.union(set2)\n",
        "union_set\n"
      ],
      "metadata": {
        "colab": {
          "base_uri": "https://localhost:8080/"
        },
        "id": "QXmwAT_ihODg",
        "outputId": "e1dee359-c52f-4d4f-dc48-9146ef6a2f00"
      },
      "execution_count": null,
      "outputs": [
        {
          "output_type": "execute_result",
          "data": {
            "text/plain": [
              "{1, 2, 3, 4, 5}"
            ]
          },
          "metadata": {},
          "execution_count": 25
        }
      ]
    },
    {
      "cell_type": "code",
      "source": [
        "# prompt: 20. Write a code to find the intersection of two sets {1, 2, 3} and {2, 3, 4}.\n",
        "\n",
        "set1 = {1, 2, 3}\n",
        "set2 = {2, 3, 4}\n",
        "\n",
        "intersection_set = set1.intersection(set2)\n",
        "intersection_set\n"
      ],
      "metadata": {
        "colab": {
          "base_uri": "https://localhost:8080/"
        },
        "id": "PUF_MnnAhW5C",
        "outputId": "11ce5421-d93f-44e0-bcb0-d197652af556"
      },
      "execution_count": null,
      "outputs": [
        {
          "output_type": "execute_result",
          "data": {
            "text/plain": [
              "{2, 3}"
            ]
          },
          "metadata": {},
          "execution_count": 26
        }
      ]
    },
    {
      "cell_type": "code",
      "source": [
        "# prompt: 21. Write a code to create a dictionary with the keys \"name\", \"age\", and \"city\", and print it.\n",
        "\n",
        "my_dictionary = {\n",
        "    \"name\": \"Nobody\",\n",
        "    \"age\": 22,\n",
        "    \"city\": \"New York\"\n",
        "}\n",
        "\n",
        "my_dictionary\n"
      ],
      "metadata": {
        "colab": {
          "base_uri": "https://localhost:8080/"
        },
        "id": "x7ugOV3ahj_Z",
        "outputId": "b9d9d7cc-527e-4ddd-db0e-29623a8b7121"
      },
      "execution_count": null,
      "outputs": [
        {
          "output_type": "execute_result",
          "data": {
            "text/plain": [
              "{'name': 'Nobody', 'age': 22, 'city': 'New York'}"
            ]
          },
          "metadata": {},
          "execution_count": 28
        }
      ]
    },
    {
      "cell_type": "code",
      "source": [
        "# prompt: 22. Write a code to add a new key-value pair \"country\": \"USA\" to the dictionary {'name': 'John', 'age': 25}.\n",
        "\n",
        "my_dict = {'name': 'Nobody', 'age': 25}\n",
        "my_dict['country'] = 'INDIA'\n",
        "my_dict\n"
      ],
      "metadata": {
        "colab": {
          "base_uri": "https://localhost:8080/"
        },
        "id": "n4enPvKShwCy",
        "outputId": "3fa988f0-8892-4d3c-edd2-cba5b6246ce3"
      },
      "execution_count": null,
      "outputs": [
        {
          "output_type": "execute_result",
          "data": {
            "text/plain": [
              "{'name': 'Nobody', 'age': 25, 'country': 'INDIA'}"
            ]
          },
          "metadata": {},
          "execution_count": 30
        }
      ]
    },
    {
      "cell_type": "code",
      "source": [
        "# prompt: 23. Write a code to access the value associated with the key \"name\" in the dictionary {'name': 'Alice', 'age': 30}.\n",
        "\n",
        "my_dictionary = {'name': 'Alice', 'age': 30}\n",
        "name_value = my_dictionary['name']\n",
        "name_value\n"
      ],
      "metadata": {
        "colab": {
          "base_uri": "https://localhost:8080/",
          "height": 35
        },
        "id": "23oSH-4piNa6",
        "outputId": "28f35561-5a80-403a-9c76-ed6969d11345"
      },
      "execution_count": null,
      "outputs": [
        {
          "output_type": "execute_result",
          "data": {
            "text/plain": [
              "'Alice'"
            ],
            "application/vnd.google.colaboratory.intrinsic+json": {
              "type": "string"
            }
          },
          "metadata": {},
          "execution_count": 31
        }
      ]
    },
    {
      "cell_type": "code",
      "source": [
        "# prompt: 24. Write a code to remove the key \"age\" from the dictionary {'name': 'Bob', 'age': 22, 'city': 'New York'}.\n",
        "\n",
        "my_dictionary = {'name': 'Bob', 'age': 22, 'city': 'New York'}\n",
        "del my_dictionary['age']\n",
        "my_dictionary\n"
      ],
      "metadata": {
        "colab": {
          "base_uri": "https://localhost:8080/"
        },
        "id": "3UBsM57XiSKs",
        "outputId": "59c2bdc9-eab1-427e-9768-a43ebf9d2191"
      },
      "execution_count": null,
      "outputs": [
        {
          "output_type": "execute_result",
          "data": {
            "text/plain": [
              "{'name': 'Bob', 'city': 'New York'}"
            ]
          },
          "metadata": {},
          "execution_count": 33
        }
      ]
    },
    {
      "cell_type": "code",
      "source": [
        "# prompt: 25. Write a code to check if the key \"city\" exists in the dictionary {'name': 'Alice', 'city': 'Paris'}.\n",
        "\n",
        "my_dict = {'name': 'Alice', 'city': 'Paris'}\n",
        "\n",
        "if 'city' in my_dict:\n",
        "  print(\"The key 'city' exists in the dictionary.\")\n",
        "else:\n",
        "  print(\"The key 'city' does not exist in the dictionary.\")\n"
      ],
      "metadata": {
        "colab": {
          "base_uri": "https://localhost:8080/"
        },
        "id": "BfiX7R0Hiqc7",
        "outputId": "34c768ab-58f3-4b2d-d1cb-af1e967f8afb"
      },
      "execution_count": null,
      "outputs": [
        {
          "output_type": "stream",
          "name": "stdout",
          "text": [
            "The key 'city' exists in the dictionary.\n"
          ]
        }
      ]
    },
    {
      "cell_type": "code",
      "source": [
        "# prompt: 26. Write a code to create a list, a tuple, and a dictionary, and print them all.\n",
        "\n",
        "my_list = [1, 2, 3, 4, 5]\n",
        "my_tuple = (6, 7, 8, 9, 10)\n",
        "my_dictionary = {'a': 1, 'b': 2, 'c': 3}\n",
        "\n",
        "print(\"My List:\", my_list)\n",
        "print(\"My Tuple:\", my_tuple)\n",
        "print(\"My Dictionary:\", my_dictionary)\n"
      ],
      "metadata": {
        "colab": {
          "base_uri": "https://localhost:8080/"
        },
        "id": "6KxX819Ziw9T",
        "outputId": "4d1165e0-c3dc-4b3b-e0b5-4d462d14b80f"
      },
      "execution_count": null,
      "outputs": [
        {
          "output_type": "stream",
          "name": "stdout",
          "text": [
            "My List: [1, 2, 3, 4, 5]\n",
            "My Tuple: (6, 7, 8, 9, 10)\n",
            "My Dictionary: {'a': 1, 'b': 2, 'c': 3}\n"
          ]
        }
      ]
    },
    {
      "cell_type": "code",
      "source": [
        "# prompt: 27. Write a code to create a list of 5 random numbers between 1 and 100, sort it in ascending order, and print the result.(replaced)\n",
        "\n",
        "import random\n",
        "\n",
        "# Create a list of 5 random numbers between 1 and 100\n",
        "random_numbers = [random.randint(1, 100) for _ in range(5)]\n",
        "\n",
        "# Sort the list in ascending order\n",
        "random_numbers.sort()\n",
        "\n",
        "# Print the sorted list\n",
        "random_numbers\n"
      ],
      "metadata": {
        "colab": {
          "base_uri": "https://localhost:8080/"
        },
        "id": "QIfLKEGfi5UK",
        "outputId": "f6f6f4a6-843d-4f01-f18d-ce552c9fdf90"
      },
      "execution_count": null,
      "outputs": [
        {
          "output_type": "execute_result",
          "data": {
            "text/plain": [
              "[13, 22, 81, 84, 98]"
            ]
          },
          "metadata": {},
          "execution_count": 36
        }
      ]
    },
    {
      "cell_type": "code",
      "source": [
        "# prompt: 28. Write a code to create a list with strings and print the element at the third index.\n",
        "\n",
        "my_list = [\"apple\", \"banana\", \"cherry\", \"date\", \"elderberry\"]\n",
        "my_list[3]\n"
      ],
      "metadata": {
        "colab": {
          "base_uri": "https://localhost:8080/",
          "height": 35
        },
        "id": "yYprrES4i5bT",
        "outputId": "6bd34b89-e8aa-4f2c-c6ef-cc04a6aebd71"
      },
      "execution_count": null,
      "outputs": [
        {
          "output_type": "execute_result",
          "data": {
            "text/plain": [
              "'date'"
            ],
            "application/vnd.google.colaboratory.intrinsic+json": {
              "type": "string"
            }
          },
          "metadata": {},
          "execution_count": 37
        }
      ]
    },
    {
      "cell_type": "code",
      "source": [
        "# prompt: 29. Write a code to combine two dictionaries into one and print the result.\n",
        "\n",
        "dict1 = {'a': 1, 'b': 2}\n",
        "dict2 = {'c': 3, 'd': 4}\n",
        "\n",
        "combined_dict = {**dict1, **dict2}\n",
        "\n",
        "combined_dict\n"
      ],
      "metadata": {
        "colab": {
          "base_uri": "https://localhost:8080/"
        },
        "id": "aQIHtWaEja3D",
        "outputId": "29cddf80-7193-4f36-8c43-3d73f41e5dea"
      },
      "execution_count": null,
      "outputs": [
        {
          "output_type": "execute_result",
          "data": {
            "text/plain": [
              "{'a': 1, 'b': 2, 'c': 3, 'd': 4}"
            ]
          },
          "metadata": {},
          "execution_count": 39
        }
      ]
    },
    {
      "cell_type": "code",
      "source": [
        "# prompt: 30. Write a code to convert a list of strings into a set.\n",
        "\n",
        "def convert_list_to_set(string_list):\n",
        "  \"\"\"Converts a list of strings into a set.\n",
        "\n",
        "  Args:\n",
        "    string_list: A list of strings.\n",
        "\n",
        "  Returns:\n",
        "    A set containing the unique strings from the input list.\n",
        "  \"\"\"\n",
        "  return set(string_list)\n",
        "\n",
        "# Example usage:\n",
        "my_list = [\"apple\", \"banana\", \"cherry\", \"apple\", \"date\"]\n",
        "my_set = convert_list_to_set(my_list)\n",
        "print(my_set)  # Output: {'apple', 'banana', 'cherry', 'date'}\n"
      ],
      "metadata": {
        "colab": {
          "base_uri": "https://localhost:8080/"
        },
        "id": "o6b_BTiXjpkr",
        "outputId": "8038c47f-21e5-422f-f13c-77c89ee186e5"
      },
      "execution_count": null,
      "outputs": [
        {
          "output_type": "stream",
          "name": "stdout",
          "text": [
            "{'banana', 'date', 'cherry', 'apple'}\n"
          ]
        }
      ]
    },
    {
      "cell_type": "code",
      "source": [],
      "metadata": {
        "id": "ENUNQWScb79u"
      },
      "execution_count": null,
      "outputs": []
    }
  ]
}